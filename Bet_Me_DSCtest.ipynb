{
  "nbformat": 4,
  "nbformat_minor": 0,
  "metadata": {
    "colab": {
      "name": "Bet.Me_DSCtest.ipynb",
      "provenance": [],
      "collapsed_sections": [],
      "authorship_tag": "ABX9TyOe3fqaoEY9mqHuVHNE8vuE",
      "include_colab_link": true
    },
    "kernelspec": {
      "name": "python3",
      "display_name": "Python 3"
    }
  },
  "cells": [
    {
      "cell_type": "markdown",
      "metadata": {
        "id": "view-in-github",
        "colab_type": "text"
      },
      "source": [
        "<a href=\"https://colab.research.google.com/github/OscarB1994/Dissertation_project_files/blob/main/Bet_Me_DSCtest.ipynb\" target=\"_parent\"><img src=\"https://colab.research.google.com/assets/colab-badge.svg\" alt=\"Open In Colab\"/></a>"
      ]
    },
    {
      "cell_type": "markdown",
      "metadata": {
        "id": "QfpXXcWGqQ1-"
      },
      "source": [
        "Bet.Me Data Science Test\r\n",
        "\r\n",
        "Carry out your workings in R, Python or Go and separately, state any assumptions you make and the\r\n",
        "consequences of a departure from those assumptions.\r\n",
        "\r\n"
      ]
    },
    {
      "cell_type": "markdown",
      "metadata": {
        "id": "vxkyPpuPtGod"
      },
      "source": [
        "\r\n",
        "1.    In a best of 9 frame snooker match between Player A and Player B, it is estimated that the\r\n",
        "probability for Player A to win the first frame is 55%. Using this information:\r\n",
        "*   a) estimate the probability for Player A to win the match,\r\n",
        "*   b) estimate the probability for there to be at least 8 frames played in the match\r\n",
        "*   c) what would be an appropriate level of odds (in decimal format) to offer for Player B to win the\r\n",
        "match.\r\n"
      ]
    },
    {
      "cell_type": "markdown",
      "metadata": {
        "id": "VQyaWkrYFpiW"
      },
      "source": [
        "**Assumptions**\n",
        "\n",
        "1.   After the first frame there is equal chance for either player to win any frame\n",
        "\n",
        "\n",
        "**Method**\n",
        "\n",
        "A) P(A winning) = P(A winning first frame + 4 others) or P(losing first frame + winning 5 others)\n",
        "\n",
        "P(A winning first frame + 4 others) -> winning the first frame and any 4 successive frames.\n",
        "\n",
        "P(losing first frame + winning 5 others) -> winning the first frame and any 4 successive frames.\n",
        "\n",
        "$P(X=x) = nCx \\cdot p^{x} \\cdot q^{n-x}$\n",
        "\n",
        "B) Neither player wins 5 matches out of the first 7\n",
        "\n",
        "C) decimal odds = 1/probability\n",
        "\n"
      ]
    },
    {
      "cell_type": "code",
      "metadata": {
        "id": "4ZMELvJsA93x"
      },
      "source": [
        "import math\r\n",
        "'''\r\n",
        "Functions for Q1\r\n",
        "'''\r\n",
        "def ncr(n,r):\r\n",
        "  return math.factorial(n)/(math.factorial(r)*math.factorial(n-r))\r\n",
        "\r\n",
        "def win_fair_frame(n,r):\r\n",
        "  return (ncr(n,r)*(0.5**(r))*(0.5**(n-r)))"
      ],
      "execution_count": 75,
      "outputs": []
    },
    {
      "cell_type": "code",
      "metadata": {
        "colab": {
          "base_uri": "https://localhost:8080/",
          "height": 0
        },
        "id": "JKE_W8zwIqsf",
        "outputId": "d0acf7af-f8a8-48d8-e788-929ddef8c8c8"
      },
      "source": [
        "win_first = 0.55*(win_fair_frame(8,4)+win_fair_frame(8,5)+win_fair_frame(8,6)+win_fair_frame(8,7)+win_fair_frame(8,8))\r\n",
        "lose_first = 0.45*(win_fair_frame(8,5)+win_fair_frame(8,6)+win_fair_frame(8,7)+win_fair_frame(8,8))\r\n",
        "\r\n",
        "A = win_first + lose_first\r\n",
        "print(f'The estimate the probability for Player A to win the match is {A:0.3f}')"
      ],
      "execution_count": 76,
      "outputs": [
        {
          "output_type": "stream",
          "text": [
            "The estimate the probability for Player A to win the match is 0.514\n"
          ],
          "name": "stdout"
        }
      ]
    },
    {
      "cell_type": "code",
      "metadata": {
        "colab": {
          "base_uri": "https://localhost:8080/",
          "height": 0
        },
        "id": "EJttbunDGt94",
        "outputId": "56494005-0038-47d0-dca7-b81d316f318b"
      },
      "source": [
        "win_first_win4 = 0.55*(win_fair_frame(6,4)+win_fair_frame(6,5)+win_fair_frame(6,6))\r\n",
        "win_first_lose5 = 0.55*(win_fair_frame(6,4)+win_fair_frame(6,5)+win_fair_frame(6,6))\r\n",
        "lose_first_win5 = 0.45*(win_fair_frame(6,5)+win_fair_frame(6,6))\r\n",
        "lose_first_lose5 = 0.45*(win_fair_frame(6,5)+win_fair_frame(6,6))\r\n",
        "\r\n",
        "B = 1-(win_first_win4 + win_first_lose5 + lose_first_win5 + lose_first_lose5)\r\n",
        "print(f'The estimate the probability for there to be at least 8 frames played in the match is {B:0.3f}')"
      ],
      "execution_count": 77,
      "outputs": [
        {
          "output_type": "stream",
          "text": [
            "The estimate the probability for there to be at least 8 frames played in the match is 0.523\n"
          ],
          "name": "stdout"
        }
      ]
    },
    {
      "cell_type": "code",
      "metadata": {
        "colab": {
          "base_uri": "https://localhost:8080/",
          "height": 0
        },
        "id": "uxaogXcKGCSG",
        "outputId": "0ac6f67a-2151-4180-b64b-baa86d397e25"
      },
      "source": [
        "C = 1/(1-A)\n",
        "print(f'Fair odds for Player B to win the match would be {C:0.3f}')"
      ],
      "execution_count": 78,
      "outputs": [
        {
          "output_type": "stream",
          "text": [
            "Fair odds for Player B to win the match would be 2.056\n"
          ],
          "name": "stdout"
        }
      ]
    },
    {
      "cell_type": "markdown",
      "metadata": {
        "id": "MhuZJ1h0tJOV"
      },
      "source": [
        "2.   In a football match between Team A and Team B, Team A is estimated to have a goals expectancy of 1.5 goals and Team B is estimated to have a goals expectancy of 1.25 goals. Using the Poisson\r\n",
        "Distribution:\r\n",
        "*  a) estimate the probability for Team A to win the match,\r\n",
        "*  b) estimate the probability for there to be at least 2.5 goals in the match\r\n",
        "*  c) what would be an appropriate level of odds (in decimal format) to offer for the match to be drawn."
      ]
    },
    {
      "cell_type": "markdown",
      "metadata": {
        "id": "KWz95Ts6ZyqX"
      },
      "source": [
        "**Assumptions**\n",
        "\n",
        "1.   No team is expected to score in excess of 7 goals\n",
        "\n",
        "a)\n",
        "\n",
        "To estimate the probability for Team A to win the match we will first create two vectors of length 8 with each element representing the probability that either Team A or B will score 0 to 7 goals. We will call these vecors vA and vB."
      ]
    },
    {
      "cell_type": "code",
      "metadata": {
        "id": "B0mIrqhHgsOA"
      },
      "source": [
        "from scipy.stats import poisson\n",
        "import numpy as np\n",
        "import pandas as pd\n",
        "vA = [poisson.pmf(0, 1.5),poisson.pmf(1, 1.5), poisson.pmf(2, 1.5),poisson.pmf(3, 1.5),poisson.pmf(4, 1.5),poisson.pmf(5, 1.5),poisson.pmf(6, 1.5),poisson.pmf(7, 1.5)]\n",
        "vB = [poisson.pmf(0, 1.25),poisson.pmf(1, 1.25), poisson.pmf(2, 1.25),poisson.pmf(3, 1.25),poisson.pmf(4, 1.25),poisson.pmf(5, 1.25),poisson.pmf(6, 1.25),poisson.pmf(7, 1.25)]"
      ],
      "execution_count": 79,
      "outputs": []
    },
    {
      "cell_type": "markdown",
      "metadata": {
        "id": "k3CIJ4OmaSMR"
      },
      "source": [
        "Next we multiply the probabilities together to find the chance of a particular score and save these in a dataframe."
      ]
    },
    {
      "cell_type": "code",
      "metadata": {
        "id": "eQ-0AYrCqN7g"
      },
      "source": [
        "mat = []\n",
        "for i in vA:\n",
        "  for j in vB:\n",
        "    #print(\"vA {}. vB {}. vAvB {}\".format(i, j, i*j))\n",
        "    mat.append(i*j)\n"
      ],
      "execution_count": 80,
      "outputs": []
    },
    {
      "cell_type": "code",
      "metadata": {
        "colab": {
          "base_uri": "https://localhost:8080/",
          "height": 277
        },
        "id": "SaikybP3xtNq",
        "outputId": "b2b125f5-a019-416c-845a-bfe3f3caa3e8"
      },
      "source": [
        "mat = np.asarray(mat)\n",
        "mat = mat.reshape(8,8)\n",
        "df = pd.DataFrame(data=mat)\n",
        "df.columns =['B_0', 'B_1', 'B_2', 'B_3', 'B_4', 'B_5', 'B_6', 'B_7'] \n",
        "df.index = ['A_0', 'A_1' ,'A_2', 'A_3', 'A_4', 'A_5', 'A_6', 'A_7'] \n",
        "df"
      ],
      "execution_count": 81,
      "outputs": [
        {
          "output_type": "execute_result",
          "data": {
            "text/html": [
              "<div>\n",
              "<style scoped>\n",
              "    .dataframe tbody tr th:only-of-type {\n",
              "        vertical-align: middle;\n",
              "    }\n",
              "\n",
              "    .dataframe tbody tr th {\n",
              "        vertical-align: top;\n",
              "    }\n",
              "\n",
              "    .dataframe thead th {\n",
              "        text-align: right;\n",
              "    }\n",
              "</style>\n",
              "<table border=\"1\" class=\"dataframe\">\n",
              "  <thead>\n",
              "    <tr style=\"text-align: right;\">\n",
              "      <th></th>\n",
              "      <th>B_0</th>\n",
              "      <th>B_1</th>\n",
              "      <th>B_2</th>\n",
              "      <th>B_3</th>\n",
              "      <th>B_4</th>\n",
              "      <th>B_5</th>\n",
              "      <th>B_6</th>\n",
              "      <th>B_7</th>\n",
              "    </tr>\n",
              "  </thead>\n",
              "  <tbody>\n",
              "    <tr>\n",
              "      <th>A_0</th>\n",
              "      <td>0.063928</td>\n",
              "      <td>0.079910</td>\n",
              "      <td>0.049944</td>\n",
              "      <td>0.020810</td>\n",
              "      <td>0.006503</td>\n",
              "      <td>0.001626</td>\n",
              "      <td>0.000339</td>\n",
              "      <td>6.048250e-05</td>\n",
              "    </tr>\n",
              "    <tr>\n",
              "      <th>A_1</th>\n",
              "      <td>0.095892</td>\n",
              "      <td>0.119865</td>\n",
              "      <td>0.074915</td>\n",
              "      <td>0.031215</td>\n",
              "      <td>0.009755</td>\n",
              "      <td>0.002439</td>\n",
              "      <td>0.000508</td>\n",
              "      <td>9.072375e-05</td>\n",
              "    </tr>\n",
              "    <tr>\n",
              "      <th>A_2</th>\n",
              "      <td>0.071919</td>\n",
              "      <td>0.089899</td>\n",
              "      <td>0.056187</td>\n",
              "      <td>0.023411</td>\n",
              "      <td>0.007316</td>\n",
              "      <td>0.001829</td>\n",
              "      <td>0.000381</td>\n",
              "      <td>6.804281e-05</td>\n",
              "    </tr>\n",
              "    <tr>\n",
              "      <th>A_3</th>\n",
              "      <td>0.035959</td>\n",
              "      <td>0.044949</td>\n",
              "      <td>0.028093</td>\n",
              "      <td>0.011706</td>\n",
              "      <td>0.003658</td>\n",
              "      <td>0.000914</td>\n",
              "      <td>0.000191</td>\n",
              "      <td>3.402141e-05</td>\n",
              "    </tr>\n",
              "    <tr>\n",
              "      <th>A_4</th>\n",
              "      <td>0.013485</td>\n",
              "      <td>0.016856</td>\n",
              "      <td>0.010535</td>\n",
              "      <td>0.004390</td>\n",
              "      <td>0.001372</td>\n",
              "      <td>0.000343</td>\n",
              "      <td>0.000071</td>\n",
              "      <td>1.275803e-05</td>\n",
              "    </tr>\n",
              "    <tr>\n",
              "      <th>A_5</th>\n",
              "      <td>0.004045</td>\n",
              "      <td>0.005057</td>\n",
              "      <td>0.003160</td>\n",
              "      <td>0.001317</td>\n",
              "      <td>0.000412</td>\n",
              "      <td>0.000103</td>\n",
              "      <td>0.000021</td>\n",
              "      <td>3.827408e-06</td>\n",
              "    </tr>\n",
              "    <tr>\n",
              "      <th>A_6</th>\n",
              "      <td>0.001011</td>\n",
              "      <td>0.001264</td>\n",
              "      <td>0.000790</td>\n",
              "      <td>0.000329</td>\n",
              "      <td>0.000103</td>\n",
              "      <td>0.000026</td>\n",
              "      <td>0.000005</td>\n",
              "      <td>9.568520e-07</td>\n",
              "    </tr>\n",
              "    <tr>\n",
              "      <th>A_7</th>\n",
              "      <td>0.000217</td>\n",
              "      <td>0.000271</td>\n",
              "      <td>0.000169</td>\n",
              "      <td>0.000071</td>\n",
              "      <td>0.000022</td>\n",
              "      <td>0.000006</td>\n",
              "      <td>0.000001</td>\n",
              "      <td>2.050397e-07</td>\n",
              "    </tr>\n",
              "  </tbody>\n",
              "</table>\n",
              "</div>"
            ],
            "text/plain": [
              "          B_0       B_1       B_2  ...       B_5       B_6           B_7\n",
              "A_0  0.063928  0.079910  0.049944  ...  0.001626  0.000339  6.048250e-05\n",
              "A_1  0.095892  0.119865  0.074915  ...  0.002439  0.000508  9.072375e-05\n",
              "A_2  0.071919  0.089899  0.056187  ...  0.001829  0.000381  6.804281e-05\n",
              "A_3  0.035959  0.044949  0.028093  ...  0.000914  0.000191  3.402141e-05\n",
              "A_4  0.013485  0.016856  0.010535  ...  0.000343  0.000071  1.275803e-05\n",
              "A_5  0.004045  0.005057  0.003160  ...  0.000103  0.000021  3.827408e-06\n",
              "A_6  0.001011  0.001264  0.000790  ...  0.000026  0.000005  9.568520e-07\n",
              "A_7  0.000217  0.000271  0.000169  ...  0.000006  0.000001  2.050397e-07\n",
              "\n",
              "[8 rows x 8 columns]"
            ]
          },
          "metadata": {
            "tags": []
          },
          "execution_count": 81
        }
      ]
    },
    {
      "cell_type": "code",
      "metadata": {
        "colab": {
          "base_uri": "https://localhost:8080/",
          "height": 0
        },
        "id": "amrD8JxuO8Vd",
        "outputId": "522cabe4-0518-48a7-d631-3c094809f341"
      },
      "source": [
        "print(sum(df.iloc[0]))\n",
        "print(sum(df.iloc[1]))\n",
        "print(sum(df.iloc[2]))\n",
        "print(sum(df.iloc[3]))\n",
        "print(sum(df.iloc[4]))\n",
        "print(sum(df.iloc[5]))\n",
        "print(sum(df.iloc[6]))\n",
        "print(sum(df.iloc[7]))"
      ],
      "execution_count": 82,
      "outputs": [
        {
          "output_type": "stream",
          "text": [
            "0.22311921234312343\n",
            "0.3346788185146851\n",
            "0.2510091138860138\n",
            "0.12550455694300697\n",
            "0.04706420885362758\n",
            "0.014119262656088283\n",
            "0.0035298156640220673\n",
            "0.0007563890708618717\n"
          ],
          "name": "stdout"
        }
      ]
    },
    {
      "cell_type": "code",
      "metadata": {
        "colab": {
          "base_uri": "https://localhost:8080/",
          "height": 0
        },
        "id": "EosLKkLQNXFG",
        "outputId": "04627f3d-48d7-403d-90df-b85cc0537455"
      },
      "source": [
        "sum(df.iloc[0])+ sum(df.iloc[1])+ sum(df.iloc[2])+ sum(df.iloc[3])+sum(df.iloc[4])+sum(df.iloc[5])+sum(df.iloc[6])+sum(df.iloc[7])"
      ],
      "execution_count": 83,
      "outputs": [
        {
          "output_type": "execute_result",
          "data": {
            "text/plain": [
              "0.9997813779314292"
            ]
          },
          "metadata": {
            "tags": []
          },
          "execution_count": 83
        }
      ]
    },
    {
      "cell_type": "markdown",
      "metadata": {
        "id": "Cetcg0a_ai2U"
      },
      "source": [
        "Next we will sum the off diagonal elements where A scores more goals than B."
      ]
    },
    {
      "cell_type": "code",
      "metadata": {
        "colab": {
          "base_uri": "https://localhost:8080/",
          "height": 0
        },
        "id": "3Qs3__oxkdcT",
        "outputId": "c18d9992-3b2b-4576-dc03-23697899e780"
      },
      "source": [
        "Awin = sum(df.iloc[1:,0])+sum(df.iloc[2:,1])+sum(df.iloc[3:,2])+sum(df.iloc[4:,3])+sum(df.iloc[5:,4])+sum(df.iloc[6:,5])+sum(df.iloc[7:,6])\n",
        "print(f'The estimated proabability that Team A will beat Team B is {Awin:.03f}')"
      ],
      "execution_count": 84,
      "outputs": [
        {
          "output_type": "stream",
          "text": [
            "The estimated proabability that Team A will beat Team B is 0.430\n"
          ],
          "name": "stdout"
        }
      ]
    },
    {
      "cell_type": "markdown",
      "metadata": {
        "id": "xZQWGlb0bYml"
      },
      "source": [
        "b)\n",
        "\n",
        "To estimate the probability for there to be at least 2.5 goals in the match we will find the chances of less than 2 goals being scored and take this figure from 1."
      ]
    },
    {
      "cell_type": "code",
      "metadata": {
        "colab": {
          "base_uri": "https://localhost:8080/",
          "height": 0
        },
        "id": "gDnisYgHblE9",
        "outputId": "a829e66e-d60b-405a-cc14-4400d125760d"
      },
      "source": [
        "morethanthree = 1 - df.iloc[0,0] - df.iloc[0,1] - df.iloc[1,0] - df.iloc[1,1] - df.iloc[2,0] - df.iloc[0,2]\n",
        "print(f'The estimated proabability for there to be at least 2.5 goals in the match is {morethanthree:.03f}')"
      ],
      "execution_count": 85,
      "outputs": [
        {
          "output_type": "stream",
          "text": [
            "The estimated proabability for there to be at least 2.5 goals in the match is 0.519\n"
          ],
          "name": "stdout"
        }
      ]
    },
    {
      "cell_type": "markdown",
      "metadata": {
        "id": "DX6KjVCRcZpU"
      },
      "source": [
        "c) \n",
        "\n",
        "Give an appropriate level of odds (in decimal format) to offer for a draw to occur"
      ]
    },
    {
      "cell_type": "code",
      "metadata": {
        "colab": {
          "base_uri": "https://localhost:8080/",
          "height": 0
        },
        "id": "nRxPRVCTeJrE",
        "outputId": "8d2e06ea-3b35-4aa7-c5c1-08ee1bab8ef2"
      },
      "source": [
        "draw = df.iloc[0,0]+df.iloc[1,1]+df.iloc[2,2]+df.iloc[3,3]+df.iloc[4,4]+df.iloc[5,5]+df.iloc[6,6]+df.iloc[7,7]\n",
        "print(f'The estimated proabability that the teams will draw is {draw:.03f}')\n",
        "print(f'Fair odds for the teams to draw is {1/draw:.03f}')"
      ],
      "execution_count": 107,
      "outputs": [
        {
          "output_type": "stream",
          "text": [
            "The estimated proabability that the teams will draw is 0.253\n",
            "Fair odds for the teams to draw is 3.950\n"
          ],
          "name": "stdout"
        }
      ]
    },
    {
      "cell_type": "code",
      "metadata": {
        "colab": {
          "base_uri": "https://localhost:8080/",
          "height": 0
        },
        "id": "Y6q-KU2Le1KK",
        "outputId": "842a3f48-fb55-414d-91f4-8fb24476e4e0"
      },
      "source": [
        "Awin + Bwin + draw"
      ],
      "execution_count": 89,
      "outputs": [
        {
          "output_type": "execute_result",
          "data": {
            "text/plain": [
              "0.9997813779314291"
            ]
          },
          "metadata": {
            "tags": []
          },
          "execution_count": 89
        }
      ]
    },
    {
      "cell_type": "markdown",
      "metadata": {
        "id": "aKpr4VsntMEl"
      },
      "source": [
        "3. In a tennis match, the probability of Player A winning a given point on serve in the first game of the\r\n",
        "match is 0.52.\r\n",
        "*  Find the probability that Player B wins the first game, given player A is serving."
      ]
    },
    {
      "cell_type": "markdown",
      "metadata": {
        "id": "VDcSe4bqmAXk"
      },
      "source": [
        "Tennis consists of two players,  The first player to score at least four points while leading by two points wins the game.\r\n",
        "\r\n",
        "Deuce occurrs at 3 points each."
      ]
    },
    {
      "cell_type": "code",
      "metadata": {
        "id": "gQ0sUFYek-TO"
      },
      "source": [
        "import math\r\n",
        "'''\r\n",
        "Functions for Q3\r\n",
        "'''\r\n",
        "def ncr(n,r):\r\n",
        "  return math.factorial(n)/(math.factorial(r)*math.factorial(n-r))\r\n",
        "\r\n",
        "def win_point(n,r,p):\r\n",
        "  return (ncr(n,r)*(p**(r))*((1-p)**(n-r)))"
      ],
      "execution_count": 90,
      "outputs": []
    },
    {
      "cell_type": "code",
      "metadata": {
        "colab": {
          "base_uri": "https://localhost:8080/",
          "height": 0
        },
        "id": "Mj1iZ7cyvx8t",
        "outputId": "9de5b062-e263-4d1c-a87d-88e8da2d6033"
      },
      "source": [
        "ncr(4,1)"
      ],
      "execution_count": 91,
      "outputs": [
        {
          "output_type": "execute_result",
          "data": {
            "text/plain": [
              "4.0"
            ]
          },
          "metadata": {
            "tags": []
          },
          "execution_count": 91
        }
      ]
    },
    {
      "cell_type": "code",
      "metadata": {
        "colab": {
          "base_uri": "https://localhost:8080/",
          "height": 0
        },
        "id": "X8I3oM4fl-j0",
        "outputId": "1dfa442f-da06-4362-9953-14ca45b8a0f3"
      },
      "source": [
        "'''the probability of A winning 4 points whilst B has 0'''\n",
        "\n",
        "A4_B0 = win_point(4,4,0.52)\n",
        "print(f'The estimated the probability of A winning 4 points whilst B has 0 is {A4_B0:.03f}')\n",
        "\n",
        "'''the probability of A winning 4 points whilst B has 1; the probability that A wins 3 of 4 and one more.'''\n",
        "\n",
        "A4_B1 = 0.52*win_point(4,3, 0.52)\n",
        "\n",
        "print(f'The estimated the probability of A winning 4 points whilst B has 1 is {A4_B1:.03f}')\n",
        "\n",
        "'''the probability of A winning 4 points whilst B has 2; the probability that A wins 3 of 5 and one more.'''\n",
        "\n",
        "A4_B2 = 0.52*win_point(5,3, 0.52)\n",
        "\n",
        "print(f'The estimated the probability of A winning 4 points whilst B has 2 is {A4_B2:.03f}')\n",
        "\n",
        "'''the probability of A winning 3 points whilst B has 3; the probability we reach deuce.'''\n",
        "\n",
        "A3_B3 = win_point(6,3, 0.52)\n",
        "\n",
        "print(f'The estimated the probability of reaching deuce is {A3_B3:.03f}')"
      ],
      "execution_count": 92,
      "outputs": [
        {
          "output_type": "stream",
          "text": [
            "The estimated the probability of A winning 4 points whilst B has 0 is 0.073\n",
            "The estimated the probability of A winning 4 points whilst B has 1 is 0.140\n",
            "The estimated the probability of A winning 4 points whilst B has 2 is 0.168\n",
            "The estimated the probability of reaching deuce is 0.311\n"
          ],
          "name": "stdout"
        }
      ]
    },
    {
      "cell_type": "markdown",
      "metadata": {
        "id": "6amPN2WpxKKZ"
      },
      "source": [
        "The probability of Player A winning after deuce, \n",
        "\n",
        "Player A can\n",
        "*   Lose two points\n",
        "*   Win two points\n",
        "*   Lose one win the other - deuce\n",
        "*   Win one lose the other - deuce\n",
        "\n"
      ]
    },
    {
      "cell_type": "code",
      "metadata": {
        "colab": {
          "base_uri": "https://localhost:8080/",
          "height": 0
        },
        "id": "NR-AamkaxJi1",
        "outputId": "f0562c0d-f27b-4975-c9a7-a4185a863ba3"
      },
      "source": [
        "'''the probability of A winning after deuce; \n",
        "the probability of the players to initially reach deuce, the probability of the Player A winning two consecutive points, the probability of the Player A winning one point then losing another or visa versa'''\n",
        "\n",
        "A3_B3 = win_point(6,3,0.52)\n",
        "\n",
        "print(f'The estimated probability of the players reaching deuce is {A3_B3:.03f}')\n",
        "\n",
        "\n",
        "\n",
        "\n",
        "'''the probability of A winning two points .'''\n",
        "\n",
        "A2_B0 = win_point(2,2,0.52)\n",
        "\n",
        "print(f'The estimated probability of A winning two consecutive points is {A2_B0:.03f}')\n",
        "\n",
        "\n",
        "\n",
        "\n",
        "''' the probability of the Player A winning one point then losing another'''\n",
        "\n",
        "A1_B1 = win_point(2,1,0.52)\n",
        "\n",
        "print(f'The estimated probability of the Player A winning one point then losing another is {A1_B1:.03f}')\n",
        "\n"
      ],
      "execution_count": 93,
      "outputs": [
        {
          "output_type": "stream",
          "text": [
            "The estimated probability of the players reaching deuce is 0.311\n",
            "The estimated probability of A winning two consecutive points is 0.270\n",
            "The estimated probability of the Player A winning one point then losing another is 0.499\n"
          ],
          "name": "stdout"
        }
      ]
    },
    {
      "cell_type": "markdown",
      "metadata": {
        "id": "_c40wRCXzroJ"
      },
      "source": [
        "If Player A wins two consective points at the start or at any point after returning to deuce, Player A would win after deuce.\n",
        "\n",
        "$\\text{2C1} = 2$\n",
        "\n",
        "$p = 0.52$\n",
        "\n",
        "$\\text{A2_B0} = p*p = p^{2}$\n",
        "\n",
        "$\\text{A1_B1} = \\text{2C1} \\cdot p^{1} \\cdot (1-p)^{2-1} = 2p(1-p)$"
      ]
    },
    {
      "cell_type": "markdown",
      "metadata": {
        "id": "dlMG2g1GM2Mr"
      },
      "source": [
        "To win the two first games,\n",
        "$p^{2}$\n",
        "\n",
        "To draw the first two games then win the following two games,\n",
        "$p^{2} \\cdot 2p(1-p)$\n",
        "\n",
        "To draw the first four games then win the following two games,\n",
        "$p^{2} \\cdot (2p(1-p))^{2}$\n",
        "\n",
        "The n'th pair of games,\n",
        "$p^{2} \\cdot (2p(1-p))^{n-1}$"
      ]
    },
    {
      "cell_type": "markdown",
      "metadata": {
        "id": "7k48zOAB1RFC"
      },
      "source": [
        "For any n'th game given the players reach deuce we have the following expression for the probability of Player A winning:\n",
        "\n",
        "$\\sum^{\\infty}_{n=0} \\text{A2_B0} \\cdot (\\text{A1_B1}^{2})^{n} $\n",
        "\n",
        "= $\\sum^{\\infty}_{n=0} \\text{p}^{2} \\cdot (2p(1-p))^{n} $\n",
        "\n",
        "where $p^{2}$ is the chance of A winning 2 consecutive games and $(2p(1-p))^{n} $ is the winning one and losing another. We can simplify the statement to:\n",
        "\n",
        "$\\text{p}^{2} \\cdot \\sum^{\\infty}_{n=0}(2p(1-p))^{n}  $\n",
        "\n",
        "For a sum of an infinite geometric sequence can be given as:\n",
        "\n",
        "$\\text{Sum}_{\\infty} = \\frac{a}{1-r} , 0<r<1$\n",
        "\n",
        "Where $a$ is the first term and $r$ is the ratio of the second term to the first.\n",
        "\n",
        "$a = (2p(1-p))^{0} = 1$\n",
        "\n",
        "\n",
        "$r = (2p(1-p))^{1} = 2p(1-p))$"
      ]
    },
    {
      "cell_type": "code",
      "metadata": {
        "colab": {
          "base_uri": "https://localhost:8080/",
          "height": 0
        },
        "id": "CX7ztcy5jqD4",
        "outputId": "a9783d06-67ed-411a-f1d1-986a86b8b2dc"
      },
      "source": [
        "a = 1\n",
        "r = 2*0.52*0.48\n",
        "summinf = a/(1-r)\n",
        "print(f'We find our values for a and r to be a: {a:.03f}, and r: {r:.03f}')\n",
        "\n",
        "probpostdeuce = (0.52**2)/(1-r)\n",
        "probpostdeuce "
      ],
      "execution_count": 94,
      "outputs": [
        {
          "output_type": "stream",
          "text": [
            "We find our values for a and r to be a: 1.000, and r: 0.499\n"
          ],
          "name": "stdout"
        },
        {
          "output_type": "execute_result",
          "data": {
            "text/plain": [
              "0.5399361022364217"
            ]
          },
          "metadata": {
            "tags": []
          },
          "execution_count": 94
        }
      ]
    },
    {
      "cell_type": "markdown",
      "metadata": {
        "id": "uoiSxHWSrJef"
      },
      "source": [
        "To conclude, we have found the following probabilities:"
      ]
    },
    {
      "cell_type": "code",
      "metadata": {
        "colab": {
          "base_uri": "https://localhost:8080/",
          "height": 0
        },
        "id": "cE_YJvbQrCYo",
        "outputId": "07cd77f5-faa0-423e-e1dc-2933fef9af67"
      },
      "source": [
        "print(f'The estimated probability of Player A winning after deuce is {probpostdeuce:.03f}')\n",
        "\n",
        "print(f'The estimated probability of A winning 4 points whilst B has 0 is {A4_B0:.03f}')\n",
        "\n",
        "print(f'The estimated probability of A winning 4 points whilst B has 1 is {A4_B1:.03f}')\n",
        "\n",
        "print(f'The estimated probability of A winning 4 points whilst B has 2 is {A4_B2:.03f}')\n",
        "\n",
        "print(f'The estimated probability of reaching deuce is {A3_B3:.03f}')"
      ],
      "execution_count": 95,
      "outputs": [
        {
          "output_type": "stream",
          "text": [
            "The estimated probability of Player A winning after deuce is 0.540\n",
            "The estimated probability of A winning 4 points whilst B has 0 is 0.073\n",
            "The estimated probability of A winning 4 points whilst B has 1 is 0.140\n",
            "The estimated probability of A winning 4 points whilst B has 2 is 0.168\n",
            "The estimated probability of reaching deuce is 0.311\n"
          ],
          "name": "stdout"
        }
      ]
    },
    {
      "cell_type": "markdown",
      "metadata": {
        "id": "5gnA_j5pkCXf"
      },
      "source": [
        "Hence the probability of A winning can be given by the following"
      ]
    },
    {
      "cell_type": "code",
      "metadata": {
        "colab": {
          "base_uri": "https://localhost:8080/",
          "height": 0
        },
        "id": "rhSFOe7ukAZh",
        "outputId": "18e07b4d-0255-4f66-907c-87e2ae30330f"
      },
      "source": [
        "A_WIN = A4_B0 + A4_B1 + A4_B2 + A3_B3*probpostdeuce\n",
        "print(f'The estimated probability of A winning is:{A_WIN:.03f}')"
      ],
      "execution_count": 96,
      "outputs": [
        {
          "output_type": "stream",
          "text": [
            "The estimated probability of A winning is:0.550\n"
          ],
          "name": "stdout"
        }
      ]
    },
    {
      "cell_type": "markdown",
      "metadata": {
        "id": "YBjuHS0Hwzbm"
      },
      "source": [
        "As we cannot draw, the probability of B winning is\n"
      ]
    },
    {
      "cell_type": "code",
      "metadata": {
        "colab": {
          "base_uri": "https://localhost:8080/",
          "height": 0
        },
        "id": "koPWpTosw8Dz",
        "outputId": "ea8148c3-4c95-42c2-ba35-dcfa32455f57"
      },
      "source": [
        "B_WIN = 1-A_WIN\n",
        "print(f'The estimated probability of B winning is:{B_WIN:.03f}')"
      ],
      "execution_count": 97,
      "outputs": [
        {
          "output_type": "stream",
          "text": [
            "The estimated probability of B winning is:0.450\n"
          ],
          "name": "stdout"
        }
      ]
    },
    {
      "cell_type": "markdown",
      "metadata": {
        "id": "-iYC3jOktNtl"
      },
      "source": [
        "4. In a five horse race, the following table sets out the decimal odds for each horse to win the race.\r\n",
        "*  What should the price be for an exact 1-2-3 finish based on Horse A winning, Horse B coming 2nd and\r\n",
        "Horse C coming 3rd?\r\n",
        "\r\n",
        "Horse | Decimal Odds\r\n",
        "--- | ---\r\n",
        "A | 3.03\r\n",
        "B | 6.66\r\n",
        "C | 3.12\r\n",
        "D | 6.25\r\n",
        "E | 25"
      ]
    },
    {
      "cell_type": "markdown",
      "metadata": {
        "id": "MtJNoTHLipkd"
      },
      "source": [
        "First we convert decimal odds to implied probability"
      ]
    },
    {
      "cell_type": "code",
      "metadata": {
        "id": "VbQEhqw1tR3N",
        "colab": {
          "base_uri": "https://localhost:8080/",
          "height": 0
        },
        "outputId": "b211abf8-4767-468d-e730-70915ee8109f"
      },
      "source": [
        "P_A1 = 1/3.03\n",
        "P_A1"
      ],
      "execution_count": 98,
      "outputs": [
        {
          "output_type": "execute_result",
          "data": {
            "text/plain": [
              "0.33003300330033003"
            ]
          },
          "metadata": {
            "tags": []
          },
          "execution_count": 98
        }
      ]
    },
    {
      "cell_type": "code",
      "metadata": {
        "colab": {
          "base_uri": "https://localhost:8080/",
          "height": 0
        },
        "id": "Gk5GXvCPi39J",
        "outputId": "c1f58c7e-8d0e-4c18-8e6b-6bc0aa98e71f"
      },
      "source": [
        "P_B1 = 1/6.66\n",
        "P_B1"
      ],
      "execution_count": 99,
      "outputs": [
        {
          "output_type": "execute_result",
          "data": {
            "text/plain": [
              "0.15015015015015015"
            ]
          },
          "metadata": {
            "tags": []
          },
          "execution_count": 99
        }
      ]
    },
    {
      "cell_type": "code",
      "metadata": {
        "id": "IJd2Lt2Ks1oE",
        "colab": {
          "base_uri": "https://localhost:8080/",
          "height": 0
        },
        "outputId": "cf23269a-5134-481c-feb4-aecf5578dd08"
      },
      "source": [
        "P_C1 = 1/3.12\n",
        "P_C1"
      ],
      "execution_count": 100,
      "outputs": [
        {
          "output_type": "execute_result",
          "data": {
            "text/plain": [
              "0.3205128205128205"
            ]
          },
          "metadata": {
            "tags": []
          },
          "execution_count": 100
        }
      ]
    },
    {
      "cell_type": "code",
      "metadata": {
        "colab": {
          "base_uri": "https://localhost:8080/",
          "height": 0
        },
        "id": "jePsu8k_i5jb",
        "outputId": "fb667e51-50e7-4739-9ef1-8eb8104e523b"
      },
      "source": [
        "P_D1 = 1/6.25\n",
        "P_D1"
      ],
      "execution_count": 101,
      "outputs": [
        {
          "output_type": "execute_result",
          "data": {
            "text/plain": [
              "0.16"
            ]
          },
          "metadata": {
            "tags": []
          },
          "execution_count": 101
        }
      ]
    },
    {
      "cell_type": "code",
      "metadata": {
        "colab": {
          "base_uri": "https://localhost:8080/",
          "height": 0
        },
        "id": "Y5lIwzJni82s",
        "outputId": "84f9d3c3-8f2e-481b-bdcc-7924a65da9fa"
      },
      "source": [
        "P_E1 = 1/25\n",
        "P_E1"
      ],
      "execution_count": 102,
      "outputs": [
        {
          "output_type": "execute_result",
          "data": {
            "text/plain": [
              "0.04"
            ]
          },
          "metadata": {
            "tags": []
          },
          "execution_count": 102
        }
      ]
    },
    {
      "cell_type": "markdown",
      "metadata": {
        "id": "FAtvcU5OjGW1"
      },
      "source": [
        "Horse | Implied Probability\r\n",
        "--- | ---\r\n",
        "A | 0.33\r\n",
        "B | 0.15\r\n",
        "C | 0.32\r\n",
        "D | 0.16\r\n",
        "E | 0.04"
      ]
    },
    {
      "cell_type": "markdown",
      "metadata": {
        "id": "EAFiBifUyt9Q"
      },
      "source": [
        "For an exact 1 2 3 finish we require Horse A to come first, Horse B to come first among the other horses given that Horse A has come first and Horse C to come first among the remaining horses given that Horse A came first and Horse B came second."
      ]
    },
    {
      "cell_type": "code",
      "metadata": {
        "colab": {
          "base_uri": "https://localhost:8080/",
          "height": 0
        },
        "id": "_kDONMeIytSw",
        "outputId": "6b126f81-d841-4977-b62e-07bb85e2de79"
      },
      "source": [
        "print(f'The estimated probability of Horse A coming first is is: {P_A1:.03f}')"
      ],
      "execution_count": 103,
      "outputs": [
        {
          "output_type": "stream",
          "text": [
            "The estimated probability of Horse A coming first is is: 0.330\n"
          ],
          "name": "stdout"
        }
      ]
    },
    {
      "cell_type": "code",
      "metadata": {
        "colab": {
          "base_uri": "https://localhost:8080/",
          "height": 0
        },
        "id": "fCuzvWgdyFWl",
        "outputId": "07ac5a2a-6c08-4cc3-dbfe-93b0becc0314"
      },
      "source": [
        "P_B2 = P_A1 * P_B1 * 1/(1-P_A1)\n",
        "print(f'The estimated probability of Horse B coming second given Horse A came first is: {P_B2:.03f}')"
      ],
      "execution_count": 104,
      "outputs": [
        {
          "output_type": "stream",
          "text": [
            "The estimated probability of Horse B coming second given Horse A came first is: 0.074\n"
          ],
          "name": "stdout"
        }
      ]
    },
    {
      "cell_type": "code",
      "metadata": {
        "colab": {
          "base_uri": "https://localhost:8080/",
          "height": 0
        },
        "id": "BWWa3Q8Z2P3C",
        "outputId": "bc4da836-6026-4e0c-f870-6797577e3fcf"
      },
      "source": [
        "P_C3 = P_B2 * P_C1 * (1/(1- P_A1 - P_B1))\n",
        "print(f'The estimated probability of Horse C coming third given Horse B came second and Horse A came first is: {P_C3:.03f}')"
      ],
      "execution_count": 105,
      "outputs": [
        {
          "output_type": "stream",
          "text": [
            "The estimated probability of Horse C coming third given Horse B came second and Horse A came first is: 0.046\n"
          ],
          "name": "stdout"
        }
      ]
    },
    {
      "cell_type": "code",
      "metadata": {
        "colab": {
          "base_uri": "https://localhost:8080/",
          "height": 0
        },
        "id": "kAaje5DJ2v35",
        "outputId": "13a9be5e-cef8-451f-93a2-b44a2bc4aef1"
      },
      "source": [
        "print(f'Hence the estimated probability an exact 1 2 3 finish is : {P_C3 :.03f}')"
      ],
      "execution_count": 106,
      "outputs": [
        {
          "output_type": "stream",
          "text": [
            "Hence the estimated probability an exact 1 2 3 finish is : 0.046\n"
          ],
          "name": "stdout"
        }
      ]
    }
  ]
}